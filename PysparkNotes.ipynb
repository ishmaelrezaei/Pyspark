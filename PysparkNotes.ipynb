{
  "cells": [
    {
      "cell_type": "markdown",
      "source": [
        "#Import pyspark and create a spark session"
      ],
      "metadata": {
        "id": "cgAHj5gGgIYr"
      },
      "id": "cgAHj5gGgIYr"
    },
    {
      "cell_type": "code",
      "source": [
        "#!pip install pyspark\n",
        "from pyspark.sql import SparkSession"
      ],
      "metadata": {
        "id": "Cbspldi7gNgz"
      },
      "id": "Cbspldi7gNgz",
      "execution_count": 191,
      "outputs": []
    },
    {
      "cell_type": "code",
      "source": [
        "# Create a Spark session\n",
        "spark = SparkSession.builder.appName('Practice').getOrCreate()"
      ],
      "metadata": {
        "id": "ncDTDQfM9ats"
      },
      "id": "ncDTDQfM9ats",
      "execution_count": 192,
      "outputs": []
    },
    {
      "cell_type": "code",
      "source": [
        "# Read the data\n",
        "data = spark.read.csv('DATA.csv')\n",
        "data.show()"
      ],
      "metadata": {
        "colab": {
          "base_uri": "https://localhost:8080/"
        },
        "id": "s3E6hwLTnLyD",
        "outputId": "a9a98f47-c0fc-4e58-aa1e-61ec80827831"
      },
      "id": "s3E6hwLTnLyD",
      "execution_count": 193,
      "outputs": [
        {
          "output_type": "stream",
          "name": "stdout",
          "text": [
            "+-------+-----+---------+----------+\n",
            "|    _c0|  _c1|      _c2|       _c3|\n",
            "+-------+-----+---------+----------+\n",
            "|   Name|  Age|   Income|Experience|\n",
            "|   John|23.00| 50000.00|      3.00|\n",
            "|   Mary|42.00| 67000.00|      8.00|\n",
            "|    Eva|34.00| 90000.00|      6.00|\n",
            "|Ishmael|53.00|100000.00|     10.00|\n",
            "|  Locus|45.00| 80000.00|      9.00|\n",
            "|Kenneth|36.00| 90000.00|      6.00|\n",
            "|    Ava|38.00|110000.00|      7.00|\n",
            "| Nicole|34.00|170000.00|      4.00|\n",
            "|    Lee|35.00|200000.00|      5.00|\n",
            "|  Ethan|22.00|140000.00|      1.00|\n",
            "| Olivia|27.00|100000.00|      2.00|\n",
            "|  Lucas|27.00| 50000.00|      2.00|\n",
            "| Sophia|29.00| 30000.00|      4.00|\n",
            "+-------+-----+---------+----------+\n",
            "\n"
          ]
        }
      ]
    },
    {
      "cell_type": "code",
      "source": [
        "# Reads a CSV file ('DATA.csv') into a Spark DataFrame named 'data' with the first row as headers\n",
        "data = spark.read.csv('DATA.csv', header = 'True')"
      ],
      "metadata": {
        "id": "FS_pElN2geII"
      },
      "id": "FS_pElN2geII",
      "execution_count": 194,
      "outputs": []
    },
    {
      "cell_type": "code",
      "source": [
        "data.show()"
      ],
      "metadata": {
        "colab": {
          "base_uri": "https://localhost:8080/"
        },
        "id": "Oql8QYt_ks3V",
        "outputId": "36b65671-e829-45ec-d1d5-af6269420bc5"
      },
      "id": "Oql8QYt_ks3V",
      "execution_count": 195,
      "outputs": [
        {
          "output_type": "stream",
          "name": "stdout",
          "text": [
            "+-------+-----+---------+----------+\n",
            "|   Name|  Age|   Income|Experience|\n",
            "+-------+-----+---------+----------+\n",
            "|   John|23.00| 50000.00|      3.00|\n",
            "|   Mary|42.00| 67000.00|      8.00|\n",
            "|    Eva|34.00| 90000.00|      6.00|\n",
            "|Ishmael|53.00|100000.00|     10.00|\n",
            "|  Locus|45.00| 80000.00|      9.00|\n",
            "|Kenneth|36.00| 90000.00|      6.00|\n",
            "|    Ava|38.00|110000.00|      7.00|\n",
            "| Nicole|34.00|170000.00|      4.00|\n",
            "|    Lee|35.00|200000.00|      5.00|\n",
            "|  Ethan|22.00|140000.00|      1.00|\n",
            "| Olivia|27.00|100000.00|      2.00|\n",
            "|  Lucas|27.00| 50000.00|      2.00|\n",
            "| Sophia|29.00| 30000.00|      4.00|\n",
            "+-------+-----+---------+----------+\n",
            "\n"
          ]
        }
      ]
    },
    {
      "cell_type": "code",
      "source": [
        "# Determines the type of the 'spark' variable, indicating the class or type of the Spark session or context\n",
        "type(spark)"
      ],
      "metadata": {
        "colab": {
          "base_uri": "https://localhost:8080/"
        },
        "id": "1MZJcZDNlZUX",
        "outputId": "4f8aa359-0b8b-4d12-e63b-b1c41e0131d0"
      },
      "id": "1MZJcZDNlZUX",
      "execution_count": 196,
      "outputs": [
        {
          "output_type": "execute_result",
          "data": {
            "text/plain": [
              "pyspark.sql.session.SparkSession"
            ]
          },
          "metadata": {},
          "execution_count": 196
        }
      ]
    },
    {
      "cell_type": "code",
      "source": [
        "# Convert spark data frame to panda one\n",
        "df_pandas = data.toPandas()\n",
        "df_pandas"
      ],
      "metadata": {
        "colab": {
          "base_uri": "https://localhost:8080/",
          "height": 457
        },
        "id": "Krv29nTeIT_b",
        "outputId": "13e06324-47fd-42b3-9ec1-37546a061cb4"
      },
      "id": "Krv29nTeIT_b",
      "execution_count": 197,
      "outputs": [
        {
          "output_type": "execute_result",
          "data": {
            "text/plain": [
              "       Name    Age     Income Experience\n",
              "0      John  23.00   50000.00       3.00\n",
              "1      Mary  42.00   67000.00       8.00\n",
              "2       Eva  34.00   90000.00       6.00\n",
              "3   Ishmael  53.00  100000.00      10.00\n",
              "4     Locus  45.00   80000.00       9.00\n",
              "5   Kenneth  36.00   90000.00       6.00\n",
              "6       Ava  38.00  110000.00       7.00\n",
              "7    Nicole  34.00  170000.00       4.00\n",
              "8       Lee  35.00  200000.00       5.00\n",
              "9     Ethan  22.00  140000.00       1.00\n",
              "10   Olivia  27.00  100000.00       2.00\n",
              "11    Lucas  27.00   50000.00       2.00\n",
              "12   Sophia  29.00   30000.00       4.00"
            ],
            "text/html": [
              "\n",
              "  <div id=\"df-5fb316d1-c781-433b-9908-8e750519e504\" class=\"colab-df-container\">\n",
              "    <div>\n",
              "<style scoped>\n",
              "    .dataframe tbody tr th:only-of-type {\n",
              "        vertical-align: middle;\n",
              "    }\n",
              "\n",
              "    .dataframe tbody tr th {\n",
              "        vertical-align: top;\n",
              "    }\n",
              "\n",
              "    .dataframe thead th {\n",
              "        text-align: right;\n",
              "    }\n",
              "</style>\n",
              "<table border=\"1\" class=\"dataframe\">\n",
              "  <thead>\n",
              "    <tr style=\"text-align: right;\">\n",
              "      <th></th>\n",
              "      <th>Name</th>\n",
              "      <th>Age</th>\n",
              "      <th>Income</th>\n",
              "      <th>Experience</th>\n",
              "    </tr>\n",
              "  </thead>\n",
              "  <tbody>\n",
              "    <tr>\n",
              "      <th>0</th>\n",
              "      <td>John</td>\n",
              "      <td>23.00</td>\n",
              "      <td>50000.00</td>\n",
              "      <td>3.00</td>\n",
              "    </tr>\n",
              "    <tr>\n",
              "      <th>1</th>\n",
              "      <td>Mary</td>\n",
              "      <td>42.00</td>\n",
              "      <td>67000.00</td>\n",
              "      <td>8.00</td>\n",
              "    </tr>\n",
              "    <tr>\n",
              "      <th>2</th>\n",
              "      <td>Eva</td>\n",
              "      <td>34.00</td>\n",
              "      <td>90000.00</td>\n",
              "      <td>6.00</td>\n",
              "    </tr>\n",
              "    <tr>\n",
              "      <th>3</th>\n",
              "      <td>Ishmael</td>\n",
              "      <td>53.00</td>\n",
              "      <td>100000.00</td>\n",
              "      <td>10.00</td>\n",
              "    </tr>\n",
              "    <tr>\n",
              "      <th>4</th>\n",
              "      <td>Locus</td>\n",
              "      <td>45.00</td>\n",
              "      <td>80000.00</td>\n",
              "      <td>9.00</td>\n",
              "    </tr>\n",
              "    <tr>\n",
              "      <th>5</th>\n",
              "      <td>Kenneth</td>\n",
              "      <td>36.00</td>\n",
              "      <td>90000.00</td>\n",
              "      <td>6.00</td>\n",
              "    </tr>\n",
              "    <tr>\n",
              "      <th>6</th>\n",
              "      <td>Ava</td>\n",
              "      <td>38.00</td>\n",
              "      <td>110000.00</td>\n",
              "      <td>7.00</td>\n",
              "    </tr>\n",
              "    <tr>\n",
              "      <th>7</th>\n",
              "      <td>Nicole</td>\n",
              "      <td>34.00</td>\n",
              "      <td>170000.00</td>\n",
              "      <td>4.00</td>\n",
              "    </tr>\n",
              "    <tr>\n",
              "      <th>8</th>\n",
              "      <td>Lee</td>\n",
              "      <td>35.00</td>\n",
              "      <td>200000.00</td>\n",
              "      <td>5.00</td>\n",
              "    </tr>\n",
              "    <tr>\n",
              "      <th>9</th>\n",
              "      <td>Ethan</td>\n",
              "      <td>22.00</td>\n",
              "      <td>140000.00</td>\n",
              "      <td>1.00</td>\n",
              "    </tr>\n",
              "    <tr>\n",
              "      <th>10</th>\n",
              "      <td>Olivia</td>\n",
              "      <td>27.00</td>\n",
              "      <td>100000.00</td>\n",
              "      <td>2.00</td>\n",
              "    </tr>\n",
              "    <tr>\n",
              "      <th>11</th>\n",
              "      <td>Lucas</td>\n",
              "      <td>27.00</td>\n",
              "      <td>50000.00</td>\n",
              "      <td>2.00</td>\n",
              "    </tr>\n",
              "    <tr>\n",
              "      <th>12</th>\n",
              "      <td>Sophia</td>\n",
              "      <td>29.00</td>\n",
              "      <td>30000.00</td>\n",
              "      <td>4.00</td>\n",
              "    </tr>\n",
              "  </tbody>\n",
              "</table>\n",
              "</div>\n",
              "    <div class=\"colab-df-buttons\">\n",
              "\n",
              "  <div class=\"colab-df-container\">\n",
              "    <button class=\"colab-df-convert\" onclick=\"convertToInteractive('df-5fb316d1-c781-433b-9908-8e750519e504')\"\n",
              "            title=\"Convert this dataframe to an interactive table.\"\n",
              "            style=\"display:none;\">\n",
              "\n",
              "  <svg xmlns=\"http://www.w3.org/2000/svg\" height=\"24px\" viewBox=\"0 -960 960 960\">\n",
              "    <path d=\"M120-120v-720h720v720H120Zm60-500h600v-160H180v160Zm220 220h160v-160H400v160Zm0 220h160v-160H400v160ZM180-400h160v-160H180v160Zm440 0h160v-160H620v160ZM180-180h160v-160H180v160Zm440 0h160v-160H620v160Z\"/>\n",
              "  </svg>\n",
              "    </button>\n",
              "\n",
              "  <style>\n",
              "    .colab-df-container {\n",
              "      display:flex;\n",
              "      gap: 12px;\n",
              "    }\n",
              "\n",
              "    .colab-df-convert {\n",
              "      background-color: #E8F0FE;\n",
              "      border: none;\n",
              "      border-radius: 50%;\n",
              "      cursor: pointer;\n",
              "      display: none;\n",
              "      fill: #1967D2;\n",
              "      height: 32px;\n",
              "      padding: 0 0 0 0;\n",
              "      width: 32px;\n",
              "    }\n",
              "\n",
              "    .colab-df-convert:hover {\n",
              "      background-color: #E2EBFA;\n",
              "      box-shadow: 0px 1px 2px rgba(60, 64, 67, 0.3), 0px 1px 3px 1px rgba(60, 64, 67, 0.15);\n",
              "      fill: #174EA6;\n",
              "    }\n",
              "\n",
              "    .colab-df-buttons div {\n",
              "      margin-bottom: 4px;\n",
              "    }\n",
              "\n",
              "    [theme=dark] .colab-df-convert {\n",
              "      background-color: #3B4455;\n",
              "      fill: #D2E3FC;\n",
              "    }\n",
              "\n",
              "    [theme=dark] .colab-df-convert:hover {\n",
              "      background-color: #434B5C;\n",
              "      box-shadow: 0px 1px 3px 1px rgba(0, 0, 0, 0.15);\n",
              "      filter: drop-shadow(0px 1px 2px rgba(0, 0, 0, 0.3));\n",
              "      fill: #FFFFFF;\n",
              "    }\n",
              "  </style>\n",
              "\n",
              "    <script>\n",
              "      const buttonEl =\n",
              "        document.querySelector('#df-5fb316d1-c781-433b-9908-8e750519e504 button.colab-df-convert');\n",
              "      buttonEl.style.display =\n",
              "        google.colab.kernel.accessAllowed ? 'block' : 'none';\n",
              "\n",
              "      async function convertToInteractive(key) {\n",
              "        const element = document.querySelector('#df-5fb316d1-c781-433b-9908-8e750519e504');\n",
              "        const dataTable =\n",
              "          await google.colab.kernel.invokeFunction('convertToInteractive',\n",
              "                                                    [key], {});\n",
              "        if (!dataTable) return;\n",
              "\n",
              "        const docLinkHtml = 'Like what you see? Visit the ' +\n",
              "          '<a target=\"_blank\" href=https://colab.research.google.com/notebooks/data_table.ipynb>data table notebook</a>'\n",
              "          + ' to learn more about interactive tables.';\n",
              "        element.innerHTML = '';\n",
              "        dataTable['output_type'] = 'display_data';\n",
              "        await google.colab.output.renderOutput(dataTable, element);\n",
              "        const docLink = document.createElement('div');\n",
              "        docLink.innerHTML = docLinkHtml;\n",
              "        element.appendChild(docLink);\n",
              "      }\n",
              "    </script>\n",
              "  </div>\n",
              "\n",
              "\n",
              "<div id=\"df-f87e1d56-df60-48f8-b424-377dc895f5b8\">\n",
              "  <button class=\"colab-df-quickchart\" onclick=\"quickchart('df-f87e1d56-df60-48f8-b424-377dc895f5b8')\"\n",
              "            title=\"Suggest charts\"\n",
              "            style=\"display:none;\">\n",
              "\n",
              "<svg xmlns=\"http://www.w3.org/2000/svg\" height=\"24px\"viewBox=\"0 0 24 24\"\n",
              "     width=\"24px\">\n",
              "    <g>\n",
              "        <path d=\"M19 3H5c-1.1 0-2 .9-2 2v14c0 1.1.9 2 2 2h14c1.1 0 2-.9 2-2V5c0-1.1-.9-2-2-2zM9 17H7v-7h2v7zm4 0h-2V7h2v10zm4 0h-2v-4h2v4z\"/>\n",
              "    </g>\n",
              "</svg>\n",
              "  </button>\n",
              "\n",
              "<style>\n",
              "  .colab-df-quickchart {\n",
              "      --bg-color: #E8F0FE;\n",
              "      --fill-color: #1967D2;\n",
              "      --hover-bg-color: #E2EBFA;\n",
              "      --hover-fill-color: #174EA6;\n",
              "      --disabled-fill-color: #AAA;\n",
              "      --disabled-bg-color: #DDD;\n",
              "  }\n",
              "\n",
              "  [theme=dark] .colab-df-quickchart {\n",
              "      --bg-color: #3B4455;\n",
              "      --fill-color: #D2E3FC;\n",
              "      --hover-bg-color: #434B5C;\n",
              "      --hover-fill-color: #FFFFFF;\n",
              "      --disabled-bg-color: #3B4455;\n",
              "      --disabled-fill-color: #666;\n",
              "  }\n",
              "\n",
              "  .colab-df-quickchart {\n",
              "    background-color: var(--bg-color);\n",
              "    border: none;\n",
              "    border-radius: 50%;\n",
              "    cursor: pointer;\n",
              "    display: none;\n",
              "    fill: var(--fill-color);\n",
              "    height: 32px;\n",
              "    padding: 0;\n",
              "    width: 32px;\n",
              "  }\n",
              "\n",
              "  .colab-df-quickchart:hover {\n",
              "    background-color: var(--hover-bg-color);\n",
              "    box-shadow: 0 1px 2px rgba(60, 64, 67, 0.3), 0 1px 3px 1px rgba(60, 64, 67, 0.15);\n",
              "    fill: var(--button-hover-fill-color);\n",
              "  }\n",
              "\n",
              "  .colab-df-quickchart-complete:disabled,\n",
              "  .colab-df-quickchart-complete:disabled:hover {\n",
              "    background-color: var(--disabled-bg-color);\n",
              "    fill: var(--disabled-fill-color);\n",
              "    box-shadow: none;\n",
              "  }\n",
              "\n",
              "  .colab-df-spinner {\n",
              "    border: 2px solid var(--fill-color);\n",
              "    border-color: transparent;\n",
              "    border-bottom-color: var(--fill-color);\n",
              "    animation:\n",
              "      spin 1s steps(1) infinite;\n",
              "  }\n",
              "\n",
              "  @keyframes spin {\n",
              "    0% {\n",
              "      border-color: transparent;\n",
              "      border-bottom-color: var(--fill-color);\n",
              "      border-left-color: var(--fill-color);\n",
              "    }\n",
              "    20% {\n",
              "      border-color: transparent;\n",
              "      border-left-color: var(--fill-color);\n",
              "      border-top-color: var(--fill-color);\n",
              "    }\n",
              "    30% {\n",
              "      border-color: transparent;\n",
              "      border-left-color: var(--fill-color);\n",
              "      border-top-color: var(--fill-color);\n",
              "      border-right-color: var(--fill-color);\n",
              "    }\n",
              "    40% {\n",
              "      border-color: transparent;\n",
              "      border-right-color: var(--fill-color);\n",
              "      border-top-color: var(--fill-color);\n",
              "    }\n",
              "    60% {\n",
              "      border-color: transparent;\n",
              "      border-right-color: var(--fill-color);\n",
              "    }\n",
              "    80% {\n",
              "      border-color: transparent;\n",
              "      border-right-color: var(--fill-color);\n",
              "      border-bottom-color: var(--fill-color);\n",
              "    }\n",
              "    90% {\n",
              "      border-color: transparent;\n",
              "      border-bottom-color: var(--fill-color);\n",
              "    }\n",
              "  }\n",
              "</style>\n",
              "\n",
              "  <script>\n",
              "    async function quickchart(key) {\n",
              "      const quickchartButtonEl =\n",
              "        document.querySelector('#' + key + ' button');\n",
              "      quickchartButtonEl.disabled = true;  // To prevent multiple clicks.\n",
              "      quickchartButtonEl.classList.add('colab-df-spinner');\n",
              "      try {\n",
              "        const charts = await google.colab.kernel.invokeFunction(\n",
              "            'suggestCharts', [key], {});\n",
              "      } catch (error) {\n",
              "        console.error('Error during call to suggestCharts:', error);\n",
              "      }\n",
              "      quickchartButtonEl.classList.remove('colab-df-spinner');\n",
              "      quickchartButtonEl.classList.add('colab-df-quickchart-complete');\n",
              "    }\n",
              "    (() => {\n",
              "      let quickchartButtonEl =\n",
              "        document.querySelector('#df-f87e1d56-df60-48f8-b424-377dc895f5b8 button');\n",
              "      quickchartButtonEl.style.display =\n",
              "        google.colab.kernel.accessAllowed ? 'block' : 'none';\n",
              "    })();\n",
              "  </script>\n",
              "</div>\n",
              "\n",
              "  <div id=\"id_7fe708f1-14a1-4625-8126-4a44e9d55809\">\n",
              "    <style>\n",
              "      .colab-df-generate {\n",
              "        background-color: #E8F0FE;\n",
              "        border: none;\n",
              "        border-radius: 50%;\n",
              "        cursor: pointer;\n",
              "        display: none;\n",
              "        fill: #1967D2;\n",
              "        height: 32px;\n",
              "        padding: 0 0 0 0;\n",
              "        width: 32px;\n",
              "      }\n",
              "\n",
              "      .colab-df-generate:hover {\n",
              "        background-color: #E2EBFA;\n",
              "        box-shadow: 0px 1px 2px rgba(60, 64, 67, 0.3), 0px 1px 3px 1px rgba(60, 64, 67, 0.15);\n",
              "        fill: #174EA6;\n",
              "      }\n",
              "\n",
              "      [theme=dark] .colab-df-generate {\n",
              "        background-color: #3B4455;\n",
              "        fill: #D2E3FC;\n",
              "      }\n",
              "\n",
              "      [theme=dark] .colab-df-generate:hover {\n",
              "        background-color: #434B5C;\n",
              "        box-shadow: 0px 1px 3px 1px rgba(0, 0, 0, 0.15);\n",
              "        filter: drop-shadow(0px 1px 2px rgba(0, 0, 0, 0.3));\n",
              "        fill: #FFFFFF;\n",
              "      }\n",
              "    </style>\n",
              "    <button class=\"colab-df-generate\" onclick=\"generateWithVariable('df_pandas')\"\n",
              "            title=\"Generate code using this dataframe.\"\n",
              "            style=\"display:none;\">\n",
              "\n",
              "  <svg xmlns=\"http://www.w3.org/2000/svg\" height=\"24px\"viewBox=\"0 0 24 24\"\n",
              "       width=\"24px\">\n",
              "    <path d=\"M7,19H8.4L18.45,9,17,7.55,7,17.6ZM5,21V16.75L18.45,3.32a2,2,0,0,1,2.83,0l1.4,1.43a1.91,1.91,0,0,1,.58,1.4,1.91,1.91,0,0,1-.58,1.4L9.25,21ZM18.45,9,17,7.55Zm-12,3A5.31,5.31,0,0,0,4.9,8.1,5.31,5.31,0,0,0,1,6.5,5.31,5.31,0,0,0,4.9,4.9,5.31,5.31,0,0,0,6.5,1,5.31,5.31,0,0,0,8.1,4.9,5.31,5.31,0,0,0,12,6.5,5.46,5.46,0,0,0,6.5,12Z\"/>\n",
              "  </svg>\n",
              "    </button>\n",
              "    <script>\n",
              "      (() => {\n",
              "      const buttonEl =\n",
              "        document.querySelector('#id_7fe708f1-14a1-4625-8126-4a44e9d55809 button.colab-df-generate');\n",
              "      buttonEl.style.display =\n",
              "        google.colab.kernel.accessAllowed ? 'block' : 'none';\n",
              "\n",
              "      buttonEl.onclick = () => {\n",
              "        google.colab.notebook.generateWithVariable('df_pandas');\n",
              "      }\n",
              "      })();\n",
              "    </script>\n",
              "  </div>\n",
              "\n",
              "    </div>\n",
              "  </div>\n"
            ]
          },
          "metadata": {},
          "execution_count": 197
        }
      ]
    },
    {
      "cell_type": "code",
      "source": [
        "data.columns"
      ],
      "metadata": {
        "colab": {
          "base_uri": "https://localhost:8080/"
        },
        "id": "M-RFw4ARmpFG",
        "outputId": "0411b866-d81c-4ca6-dcaa-9cea6818b1ad"
      },
      "id": "M-RFw4ARmpFG",
      "execution_count": 198,
      "outputs": [
        {
          "output_type": "execute_result",
          "data": {
            "text/plain": [
              "['Name', 'Age', 'Income', 'Experience']"
            ]
          },
          "metadata": {},
          "execution_count": 198
        }
      ]
    },
    {
      "cell_type": "code",
      "source": [
        "data.printSchema()"
      ],
      "metadata": {
        "colab": {
          "base_uri": "https://localhost:8080/"
        },
        "id": "wUw2EILLnULt",
        "outputId": "e0ed1e5f-c53b-4bfe-db29-11df64018b97"
      },
      "id": "wUw2EILLnULt",
      "execution_count": 199,
      "outputs": [
        {
          "output_type": "stream",
          "name": "stdout",
          "text": [
            "root\n",
            " |-- Name: string (nullable = true)\n",
            " |-- Age: string (nullable = true)\n",
            " |-- Income: string (nullable = true)\n",
            " |-- Experience: string (nullable = true)\n",
            "\n"
          ]
        }
      ]
    },
    {
      "cell_type": "code",
      "source": [
        "# Display the first 5 rows\n",
        "data.head(5)"
      ],
      "metadata": {
        "colab": {
          "base_uri": "https://localhost:8080/"
        },
        "id": "a2Hl2uNyn0_D",
        "outputId": "6a920985-2a63-44c3-e580-948f88326a04"
      },
      "id": "a2Hl2uNyn0_D",
      "execution_count": 200,
      "outputs": [
        {
          "output_type": "execute_result",
          "data": {
            "text/plain": [
              "[Row(Name='John', Age='23.00', Income='50000.00', Experience='3.00'),\n",
              " Row(Name='Mary', Age='42.00', Income='67000.00', Experience='8.00'),\n",
              " Row(Name='Eva', Age='34.00', Income='90000.00', Experience='6.00'),\n",
              " Row(Name='Ishmael', Age='53.00', Income='100000.00', Experience='10.00'),\n",
              " Row(Name='Locus', Age='45.00', Income='80000.00', Experience='9.00')]"
            ]
          },
          "metadata": {},
          "execution_count": 200
        }
      ]
    },
    {
      "cell_type": "code",
      "source": [
        "# Display the last 5 rows\n",
        "data.tail(5)"
      ],
      "metadata": {
        "colab": {
          "base_uri": "https://localhost:8080/"
        },
        "id": "CKzcs0mTop9B",
        "outputId": "865db041-462e-4008-d05f-c35c628df004"
      },
      "id": "CKzcs0mTop9B",
      "execution_count": 201,
      "outputs": [
        {
          "output_type": "execute_result",
          "data": {
            "text/plain": [
              "[Row(Name='Lee', Age='35.00', Income='200000.00', Experience='5.00'),\n",
              " Row(Name='Ethan', Age='22.00', Income='140000.00', Experience='1.00'),\n",
              " Row(Name='Olivia', Age='27.00', Income='100000.00', Experience='2.00'),\n",
              " Row(Name='Lucas', Age='27.00', Income='50000.00', Experience='2.00'),\n",
              " Row(Name='Sophia', Age='29.00', Income='30000.00', Experience='4.00')]"
            ]
          },
          "metadata": {},
          "execution_count": 201
        }
      ]
    },
    {
      "cell_type": "code",
      "source": [
        "# Select the 'Name' and 'age' columns\n",
        "data.select(['Name', 'age'])"
      ],
      "metadata": {
        "colab": {
          "base_uri": "https://localhost:8080/"
        },
        "id": "1f691kMWo0Ce",
        "outputId": "f178f7ec-2ff9-4cdc-bedf-80e44b404481"
      },
      "id": "1f691kMWo0Ce",
      "execution_count": 202,
      "outputs": [
        {
          "output_type": "execute_result",
          "data": {
            "text/plain": [
              "DataFrame[Name: string, age: string]"
            ]
          },
          "metadata": {},
          "execution_count": 202
        }
      ]
    },
    {
      "cell_type": "code",
      "source": [
        "data.select(['Name', 'age']).show()"
      ],
      "metadata": {
        "colab": {
          "base_uri": "https://localhost:8080/"
        },
        "id": "EFOhyLChpBNA",
        "outputId": "d8270ae3-0df3-4dd9-d7d9-713b60d244ce"
      },
      "id": "EFOhyLChpBNA",
      "execution_count": 203,
      "outputs": [
        {
          "output_type": "stream",
          "name": "stdout",
          "text": [
            "+-------+-----+\n",
            "|   Name|  age|\n",
            "+-------+-----+\n",
            "|   John|23.00|\n",
            "|   Mary|42.00|\n",
            "|    Eva|34.00|\n",
            "|Ishmael|53.00|\n",
            "|  Locus|45.00|\n",
            "|Kenneth|36.00|\n",
            "|    Ava|38.00|\n",
            "| Nicole|34.00|\n",
            "|    Lee|35.00|\n",
            "|  Ethan|22.00|\n",
            "| Olivia|27.00|\n",
            "|  Lucas|27.00|\n",
            "| Sophia|29.00|\n",
            "+-------+-----+\n",
            "\n"
          ]
        }
      ]
    },
    {
      "cell_type": "code",
      "source": [
        "data['Name']"
      ],
      "metadata": {
        "colab": {
          "base_uri": "https://localhost:8080/"
        },
        "id": "_TA-jXBWpOse",
        "outputId": "15656ecf-1a28-4214-dde8-d1962bbac1d8"
      },
      "id": "_TA-jXBWpOse",
      "execution_count": 204,
      "outputs": [
        {
          "output_type": "execute_result",
          "data": {
            "text/plain": [
              "Column<'Name'>"
            ]
          },
          "metadata": {},
          "execution_count": 204
        }
      ]
    },
    {
      "cell_type": "code",
      "source": [
        "data.dtypes"
      ],
      "metadata": {
        "colab": {
          "base_uri": "https://localhost:8080/"
        },
        "id": "8hw8uI1LwVS6",
        "outputId": "4caed1fb-4387-462e-dbff-d4c74ef1c811"
      },
      "id": "8hw8uI1LwVS6",
      "execution_count": 205,
      "outputs": [
        {
          "output_type": "execute_result",
          "data": {
            "text/plain": [
              "[('Name', 'string'),\n",
              " ('Age', 'string'),\n",
              " ('Income', 'string'),\n",
              " ('Experience', 'string')]"
            ]
          },
          "metadata": {},
          "execution_count": 205
        }
      ]
    },
    {
      "cell_type": "code",
      "source": [
        "# Show descriptive statistics\n",
        "data.describe().show()"
      ],
      "metadata": {
        "colab": {
          "base_uri": "https://localhost:8080/"
        },
        "id": "IOviio4qweic",
        "outputId": "1468232f-2b5d-4f47-8c85-1c215cc5b08c"
      },
      "id": "IOviio4qweic",
      "execution_count": 206,
      "outputs": [
        {
          "output_type": "stream",
          "name": "stdout",
          "text": [
            "+-------+------+-----------------+------------------+------------------+\n",
            "|summary|  Name|              Age|            Income|        Experience|\n",
            "+-------+------+-----------------+------------------+------------------+\n",
            "|  count|    13|               13|                13|                13|\n",
            "|   mean|  NULL|34.23076923076923| 98230.76923076923| 5.153846153846154|\n",
            "| stddev|  NULL|8.917715011461231|48432.347740867444|2.8238907511373337|\n",
            "|    min|   Ava|            22.00|         100000.00|              1.00|\n",
            "|    max|Sophia|            53.00|          90000.00|              9.00|\n",
            "+-------+------+-----------------+------------------+------------------+\n",
            "\n"
          ]
        }
      ]
    },
    {
      "cell_type": "code",
      "source": [
        "# Adding columns in data frame\n",
        "data = data.withColumn('New Col', data['age']+2)\n",
        "data.show()"
      ],
      "metadata": {
        "colab": {
          "base_uri": "https://localhost:8080/"
        },
        "id": "8HQ2XUSQxj4j",
        "outputId": "6e35568e-f3cd-461d-d827-875b04b9ccc0"
      },
      "id": "8HQ2XUSQxj4j",
      "execution_count": 207,
      "outputs": [
        {
          "output_type": "stream",
          "name": "stdout",
          "text": [
            "+-------+-----+---------+----------+-------+\n",
            "|   Name|  Age|   Income|Experience|New Col|\n",
            "+-------+-----+---------+----------+-------+\n",
            "|   John|23.00| 50000.00|      3.00|   25.0|\n",
            "|   Mary|42.00| 67000.00|      8.00|   44.0|\n",
            "|    Eva|34.00| 90000.00|      6.00|   36.0|\n",
            "|Ishmael|53.00|100000.00|     10.00|   55.0|\n",
            "|  Locus|45.00| 80000.00|      9.00|   47.0|\n",
            "|Kenneth|36.00| 90000.00|      6.00|   38.0|\n",
            "|    Ava|38.00|110000.00|      7.00|   40.0|\n",
            "| Nicole|34.00|170000.00|      4.00|   36.0|\n",
            "|    Lee|35.00|200000.00|      5.00|   37.0|\n",
            "|  Ethan|22.00|140000.00|      1.00|   24.0|\n",
            "| Olivia|27.00|100000.00|      2.00|   29.0|\n",
            "|  Lucas|27.00| 50000.00|      2.00|   29.0|\n",
            "| Sophia|29.00| 30000.00|      4.00|   31.0|\n",
            "+-------+-----+---------+----------+-------+\n",
            "\n"
          ]
        }
      ]
    },
    {
      "cell_type": "code",
      "source": [
        "# Remove a column\n",
        "data = data.drop('New Col')        #data = data.drop(['New Col']) doesn't work\n",
        "data.show()"
      ],
      "metadata": {
        "colab": {
          "base_uri": "https://localhost:8080/"
        },
        "id": "KFwliyjZyf-Z",
        "outputId": "3e2bf39e-ff90-4c26-d8b5-1b8834f24ba4"
      },
      "id": "KFwliyjZyf-Z",
      "execution_count": 208,
      "outputs": [
        {
          "output_type": "stream",
          "name": "stdout",
          "text": [
            "+-------+-----+---------+----------+\n",
            "|   Name|  Age|   Income|Experience|\n",
            "+-------+-----+---------+----------+\n",
            "|   John|23.00| 50000.00|      3.00|\n",
            "|   Mary|42.00| 67000.00|      8.00|\n",
            "|    Eva|34.00| 90000.00|      6.00|\n",
            "|Ishmael|53.00|100000.00|     10.00|\n",
            "|  Locus|45.00| 80000.00|      9.00|\n",
            "|Kenneth|36.00| 90000.00|      6.00|\n",
            "|    Ava|38.00|110000.00|      7.00|\n",
            "| Nicole|34.00|170000.00|      4.00|\n",
            "|    Lee|35.00|200000.00|      5.00|\n",
            "|  Ethan|22.00|140000.00|      1.00|\n",
            "| Olivia|27.00|100000.00|      2.00|\n",
            "|  Lucas|27.00| 50000.00|      2.00|\n",
            "| Sophia|29.00| 30000.00|      4.00|\n",
            "+-------+-----+---------+----------+\n",
            "\n"
          ]
        }
      ]
    },
    {
      "cell_type": "code",
      "source": [
        "# Rename a column\n",
        "data = data.withColumnRenamed('age', 'Age')\n",
        "data.show()"
      ],
      "metadata": {
        "colab": {
          "base_uri": "https://localhost:8080/"
        },
        "id": "BifbP1KOywsX",
        "outputId": "76995692-558e-4cb8-b704-a755ec5c16d4"
      },
      "id": "BifbP1KOywsX",
      "execution_count": 209,
      "outputs": [
        {
          "output_type": "stream",
          "name": "stdout",
          "text": [
            "+-------+-----+---------+----------+\n",
            "|   Name|  Age|   Income|Experience|\n",
            "+-------+-----+---------+----------+\n",
            "|   John|23.00| 50000.00|      3.00|\n",
            "|   Mary|42.00| 67000.00|      8.00|\n",
            "|    Eva|34.00| 90000.00|      6.00|\n",
            "|Ishmael|53.00|100000.00|     10.00|\n",
            "|  Locus|45.00| 80000.00|      9.00|\n",
            "|Kenneth|36.00| 90000.00|      6.00|\n",
            "|    Ava|38.00|110000.00|      7.00|\n",
            "| Nicole|34.00|170000.00|      4.00|\n",
            "|    Lee|35.00|200000.00|      5.00|\n",
            "|  Ethan|22.00|140000.00|      1.00|\n",
            "| Olivia|27.00|100000.00|      2.00|\n",
            "|  Lucas|27.00| 50000.00|      2.00|\n",
            "| Sophia|29.00| 30000.00|      4.00|\n",
            "+-------+-----+---------+----------+\n",
            "\n"
          ]
        }
      ]
    },
    {
      "cell_type": "code",
      "source": [
        "# Dropping rows with missing values\n",
        "data.na.drop().show()"
      ],
      "metadata": {
        "colab": {
          "base_uri": "https://localhost:8080/"
        },
        "id": "u-M-lEL_0bF_",
        "outputId": "bb825b85-6f65-4fc3-ecde-9c9625a6d38c"
      },
      "id": "u-M-lEL_0bF_",
      "execution_count": 210,
      "outputs": [
        {
          "output_type": "stream",
          "name": "stdout",
          "text": [
            "+-------+-----+---------+----------+\n",
            "|   Name|  Age|   Income|Experience|\n",
            "+-------+-----+---------+----------+\n",
            "|   John|23.00| 50000.00|      3.00|\n",
            "|   Mary|42.00| 67000.00|      8.00|\n",
            "|    Eva|34.00| 90000.00|      6.00|\n",
            "|Ishmael|53.00|100000.00|     10.00|\n",
            "|  Locus|45.00| 80000.00|      9.00|\n",
            "|Kenneth|36.00| 90000.00|      6.00|\n",
            "|    Ava|38.00|110000.00|      7.00|\n",
            "| Nicole|34.00|170000.00|      4.00|\n",
            "|    Lee|35.00|200000.00|      5.00|\n",
            "|  Ethan|22.00|140000.00|      1.00|\n",
            "| Olivia|27.00|100000.00|      2.00|\n",
            "|  Lucas|27.00| 50000.00|      2.00|\n",
            "| Sophia|29.00| 30000.00|      4.00|\n",
            "+-------+-----+---------+----------+\n",
            "\n"
          ]
        }
      ]
    },
    {
      "cell_type": "code",
      "source": [
        "# Dropping rows with any missing values\n",
        "data.na.drop(how=\"any\").show()"
      ],
      "metadata": {
        "id": "oNBJ548a0da_",
        "colab": {
          "base_uri": "https://localhost:8080/"
        },
        "outputId": "215e71cc-bde2-4c18-f1f5-a887e0bfb99f"
      },
      "id": "oNBJ548a0da_",
      "execution_count": 211,
      "outputs": [
        {
          "output_type": "stream",
          "name": "stdout",
          "text": [
            "+-------+-----+---------+----------+\n",
            "|   Name|  Age|   Income|Experience|\n",
            "+-------+-----+---------+----------+\n",
            "|   John|23.00| 50000.00|      3.00|\n",
            "|   Mary|42.00| 67000.00|      8.00|\n",
            "|    Eva|34.00| 90000.00|      6.00|\n",
            "|Ishmael|53.00|100000.00|     10.00|\n",
            "|  Locus|45.00| 80000.00|      9.00|\n",
            "|Kenneth|36.00| 90000.00|      6.00|\n",
            "|    Ava|38.00|110000.00|      7.00|\n",
            "| Nicole|34.00|170000.00|      4.00|\n",
            "|    Lee|35.00|200000.00|      5.00|\n",
            "|  Ethan|22.00|140000.00|      1.00|\n",
            "| Olivia|27.00|100000.00|      2.00|\n",
            "|  Lucas|27.00| 50000.00|      2.00|\n",
            "| Sophia|29.00| 30000.00|      4.00|\n",
            "+-------+-----+---------+----------+\n",
            "\n"
          ]
        }
      ]
    },
    {
      "cell_type": "code",
      "source": [
        "# dropping rows with any missing values in the 'Experience' column\n",
        "data.show()\n",
        "data.na.drop(how=\"any\", subset=\"Experience\").show()"
      ],
      "metadata": {
        "colab": {
          "base_uri": "https://localhost:8080/"
        },
        "id": "9CzHlI0uAUsZ",
        "outputId": "afcf9f81-23ea-4856-e2d1-0178afebcfa2"
      },
      "id": "9CzHlI0uAUsZ",
      "execution_count": 212,
      "outputs": [
        {
          "output_type": "stream",
          "name": "stdout",
          "text": [
            "+-------+-----+---------+----------+\n",
            "|   Name|  Age|   Income|Experience|\n",
            "+-------+-----+---------+----------+\n",
            "|   John|23.00| 50000.00|      3.00|\n",
            "|   Mary|42.00| 67000.00|      8.00|\n",
            "|    Eva|34.00| 90000.00|      6.00|\n",
            "|Ishmael|53.00|100000.00|     10.00|\n",
            "|  Locus|45.00| 80000.00|      9.00|\n",
            "|Kenneth|36.00| 90000.00|      6.00|\n",
            "|    Ava|38.00|110000.00|      7.00|\n",
            "| Nicole|34.00|170000.00|      4.00|\n",
            "|    Lee|35.00|200000.00|      5.00|\n",
            "|  Ethan|22.00|140000.00|      1.00|\n",
            "| Olivia|27.00|100000.00|      2.00|\n",
            "|  Lucas|27.00| 50000.00|      2.00|\n",
            "| Sophia|29.00| 30000.00|      4.00|\n",
            "+-------+-----+---------+----------+\n",
            "\n",
            "+-------+-----+---------+----------+\n",
            "|   Name|  Age|   Income|Experience|\n",
            "+-------+-----+---------+----------+\n",
            "|   John|23.00| 50000.00|      3.00|\n",
            "|   Mary|42.00| 67000.00|      8.00|\n",
            "|    Eva|34.00| 90000.00|      6.00|\n",
            "|Ishmael|53.00|100000.00|     10.00|\n",
            "|  Locus|45.00| 80000.00|      9.00|\n",
            "|Kenneth|36.00| 90000.00|      6.00|\n",
            "|    Ava|38.00|110000.00|      7.00|\n",
            "| Nicole|34.00|170000.00|      4.00|\n",
            "|    Lee|35.00|200000.00|      5.00|\n",
            "|  Ethan|22.00|140000.00|      1.00|\n",
            "| Olivia|27.00|100000.00|      2.00|\n",
            "|  Lucas|27.00| 50000.00|      2.00|\n",
            "| Sophia|29.00| 30000.00|      4.00|\n",
            "+-------+-----+---------+----------+\n",
            "\n"
          ]
        }
      ]
    },
    {
      "cell_type": "code",
      "source": [
        "# Filling missing values\n",
        "data.na.fill('FILLED CELL', subset=['Experience', 'Income']).show()"
      ],
      "metadata": {
        "colab": {
          "base_uri": "https://localhost:8080/"
        },
        "id": "EjIhzBlQCo0E",
        "outputId": "013dcaad-5108-4969-beec-ea4843e7d685"
      },
      "id": "EjIhzBlQCo0E",
      "execution_count": 213,
      "outputs": [
        {
          "output_type": "stream",
          "name": "stdout",
          "text": [
            "+-------+-----+---------+----------+\n",
            "|   Name|  Age|   Income|Experience|\n",
            "+-------+-----+---------+----------+\n",
            "|   John|23.00| 50000.00|      3.00|\n",
            "|   Mary|42.00| 67000.00|      8.00|\n",
            "|    Eva|34.00| 90000.00|      6.00|\n",
            "|Ishmael|53.00|100000.00|     10.00|\n",
            "|  Locus|45.00| 80000.00|      9.00|\n",
            "|Kenneth|36.00| 90000.00|      6.00|\n",
            "|    Ava|38.00|110000.00|      7.00|\n",
            "| Nicole|34.00|170000.00|      4.00|\n",
            "|    Lee|35.00|200000.00|      5.00|\n",
            "|  Ethan|22.00|140000.00|      1.00|\n",
            "| Olivia|27.00|100000.00|      2.00|\n",
            "|  Lucas|27.00| 50000.00|      2.00|\n",
            "| Sophia|29.00| 30000.00|      4.00|\n",
            "+-------+-----+---------+----------+\n",
            "\n"
          ]
        }
      ]
    },
    {
      "cell_type": "code",
      "source": [
        "from pyspark.ml.feature import Imputer\n",
        "\n",
        "# Converts 'Age', 'Experience', and 'Income' columns to double and creates new columns 'New Age', 'New Experience', 'New Income'\n",
        "data = data.withColumn('New Age', data.Age.cast('double'))\n",
        "data = data.withColumn('New Experience', data.Experience.cast('double'))\n",
        "data = data.withColumn('New Income', data.Experience.cast('double'))\n",
        "\n",
        "# Initializes an Imputer with input and output columns, and sets the strategy to 'mean'\n",
        "imputer = Imputer(\n",
        "    inputCols=['New Age', 'New Experience', 'New Income'],\n",
        "    outputCols=[\"{}_imputed\".format(c) for c in ['New Age', 'New Experience', 'New Income']]\n",
        "    ).setStrategy(\"mean\")"
      ],
      "metadata": {
        "id": "Cu1wcynKPmKl"
      },
      "id": "Cu1wcynKPmKl",
      "execution_count": 214,
      "outputs": []
    },
    {
      "cell_type": "code",
      "source": [
        "# Add imputation cols to df\n",
        "imputer.fit(data).transform(data).show()"
      ],
      "metadata": {
        "colab": {
          "base_uri": "https://localhost:8080/"
        },
        "id": "R8kaifnkQ5mF",
        "outputId": "5f0a4a68-288c-4db1-a831-ef84d5246d87"
      },
      "id": "R8kaifnkQ5mF",
      "execution_count": 215,
      "outputs": [
        {
          "output_type": "stream",
          "name": "stdout",
          "text": [
            "+-------+-----+---------+----------+-------+--------------+----------+---------------+----------------------+------------------+\n",
            "|   Name|  Age|   Income|Experience|New Age|New Experience|New Income|New Age_imputed|New Experience_imputed|New Income_imputed|\n",
            "+-------+-----+---------+----------+-------+--------------+----------+---------------+----------------------+------------------+\n",
            "|   John|23.00| 50000.00|      3.00|   23.0|           3.0|       3.0|           23.0|                   3.0|               3.0|\n",
            "|   Mary|42.00| 67000.00|      8.00|   42.0|           8.0|       8.0|           42.0|                   8.0|               8.0|\n",
            "|    Eva|34.00| 90000.00|      6.00|   34.0|           6.0|       6.0|           34.0|                   6.0|               6.0|\n",
            "|Ishmael|53.00|100000.00|     10.00|   53.0|          10.0|      10.0|           53.0|                  10.0|              10.0|\n",
            "|  Locus|45.00| 80000.00|      9.00|   45.0|           9.0|       9.0|           45.0|                   9.0|               9.0|\n",
            "|Kenneth|36.00| 90000.00|      6.00|   36.0|           6.0|       6.0|           36.0|                   6.0|               6.0|\n",
            "|    Ava|38.00|110000.00|      7.00|   38.0|           7.0|       7.0|           38.0|                   7.0|               7.0|\n",
            "| Nicole|34.00|170000.00|      4.00|   34.0|           4.0|       4.0|           34.0|                   4.0|               4.0|\n",
            "|    Lee|35.00|200000.00|      5.00|   35.0|           5.0|       5.0|           35.0|                   5.0|               5.0|\n",
            "|  Ethan|22.00|140000.00|      1.00|   22.0|           1.0|       1.0|           22.0|                   1.0|               1.0|\n",
            "| Olivia|27.00|100000.00|      2.00|   27.0|           2.0|       2.0|           27.0|                   2.0|               2.0|\n",
            "|  Lucas|27.00| 50000.00|      2.00|   27.0|           2.0|       2.0|           27.0|                   2.0|               2.0|\n",
            "| Sophia|29.00| 30000.00|      4.00|   29.0|           4.0|       4.0|           29.0|                   4.0|               4.0|\n",
            "+-------+-----+---------+----------+-------+--------------+----------+---------------+----------------------+------------------+\n",
            "\n"
          ]
        }
      ]
    },
    {
      "cell_type": "code",
      "source": [
        "data.dtypes"
      ],
      "metadata": {
        "colab": {
          "base_uri": "https://localhost:8080/"
        },
        "id": "MiPIQaKJQ_Ms",
        "outputId": "2635455f-9556-4709-b23f-6272eec6bdb8"
      },
      "id": "MiPIQaKJQ_Ms",
      "execution_count": 216,
      "outputs": [
        {
          "output_type": "execute_result",
          "data": {
            "text/plain": [
              "[('Name', 'string'),\n",
              " ('Age', 'string'),\n",
              " ('Income', 'string'),\n",
              " ('Experience', 'string'),\n",
              " ('New Age', 'double'),\n",
              " ('New Experience', 'double'),\n",
              " ('New Income', 'double')]"
            ]
          },
          "metadata": {},
          "execution_count": 216
        }
      ]
    },
    {
      "cell_type": "markdown",
      "source": [
        "# Filtering Data"
      ],
      "metadata": {
        "id": "RlNnkXg3Hgin"
      },
      "id": "RlNnkXg3Hgin"
    },
    {
      "cell_type": "code",
      "source": [
        "data.filter(\"Age<30\").show()"
      ],
      "metadata": {
        "colab": {
          "base_uri": "https://localhost:8080/"
        },
        "id": "LSk16YBJRYSJ",
        "outputId": "c03b337b-0fa3-419c-9e49-86af7c874e6b"
      },
      "id": "LSk16YBJRYSJ",
      "execution_count": 217,
      "outputs": [
        {
          "output_type": "stream",
          "name": "stdout",
          "text": [
            "+------+-----+---------+----------+-------+--------------+----------+\n",
            "|  Name|  Age|   Income|Experience|New Age|New Experience|New Income|\n",
            "+------+-----+---------+----------+-------+--------------+----------+\n",
            "|  John|23.00| 50000.00|      3.00|   23.0|           3.0|       3.0|\n",
            "| Ethan|22.00|140000.00|      1.00|   22.0|           1.0|       1.0|\n",
            "|Olivia|27.00|100000.00|      2.00|   27.0|           2.0|       2.0|\n",
            "| Lucas|27.00| 50000.00|      2.00|   27.0|           2.0|       2.0|\n",
            "|Sophia|29.00| 30000.00|      4.00|   29.0|           4.0|       4.0|\n",
            "+------+-----+---------+----------+-------+--------------+----------+\n",
            "\n"
          ]
        }
      ]
    },
    {
      "cell_type": "code",
      "source": [
        "data.filter('Age<30').select(['Name', 'Age']).show()"
      ],
      "metadata": {
        "colab": {
          "base_uri": "https://localhost:8080/"
        },
        "id": "9zmOQda3Rqu8",
        "outputId": "bdeba35f-a40d-4e6a-9980-4fa0a7ccd71f"
      },
      "id": "9zmOQda3Rqu8",
      "execution_count": 218,
      "outputs": [
        {
          "output_type": "stream",
          "name": "stdout",
          "text": [
            "+------+-----+\n",
            "|  Name|  Age|\n",
            "+------+-----+\n",
            "|  John|23.00|\n",
            "| Ethan|22.00|\n",
            "|Olivia|27.00|\n",
            "| Lucas|27.00|\n",
            "|Sophia|29.00|\n",
            "+------+-----+\n",
            "\n"
          ]
        }
      ]
    },
    {
      "cell_type": "code",
      "source": [
        "data.filter((data['Age']<=35) | (data['Experience']<=5)).show()"
      ],
      "metadata": {
        "colab": {
          "base_uri": "https://localhost:8080/"
        },
        "id": "MKAtrhkzThWZ",
        "outputId": "419a502f-c3c6-427d-eb36-6faab396d675"
      },
      "id": "MKAtrhkzThWZ",
      "execution_count": 219,
      "outputs": [
        {
          "output_type": "stream",
          "name": "stdout",
          "text": [
            "+------+-----+---------+----------+-------+--------------+----------+\n",
            "|  Name|  Age|   Income|Experience|New Age|New Experience|New Income|\n",
            "+------+-----+---------+----------+-------+--------------+----------+\n",
            "|  John|23.00| 50000.00|      3.00|   23.0|           3.0|       3.0|\n",
            "|   Eva|34.00| 90000.00|      6.00|   34.0|           6.0|       6.0|\n",
            "|Nicole|34.00|170000.00|      4.00|   34.0|           4.0|       4.0|\n",
            "|   Lee|35.00|200000.00|      5.00|   35.0|           5.0|       5.0|\n",
            "| Ethan|22.00|140000.00|      1.00|   22.0|           1.0|       1.0|\n",
            "|Olivia|27.00|100000.00|      2.00|   27.0|           2.0|       2.0|\n",
            "| Lucas|27.00| 50000.00|      2.00|   27.0|           2.0|       2.0|\n",
            "|Sophia|29.00| 30000.00|      4.00|   29.0|           4.0|       4.0|\n",
            "+------+-----+---------+----------+-------+--------------+----------+\n",
            "\n"
          ]
        }
      ]
    },
    {
      "cell_type": "code",
      "source": [
        "data.filter((data['Age']<35) & (data['Experience']<=5)).show()"
      ],
      "metadata": {
        "colab": {
          "base_uri": "https://localhost:8080/"
        },
        "id": "ya40Z7ANdtdM",
        "outputId": "025bba31-688a-4042-977b-7a8e2a8a9ccc"
      },
      "id": "ya40Z7ANdtdM",
      "execution_count": 220,
      "outputs": [
        {
          "output_type": "stream",
          "name": "stdout",
          "text": [
            "+------+-----+---------+----------+-------+--------------+----------+\n",
            "|  Name|  Age|   Income|Experience|New Age|New Experience|New Income|\n",
            "+------+-----+---------+----------+-------+--------------+----------+\n",
            "|  John|23.00| 50000.00|      3.00|   23.0|           3.0|       3.0|\n",
            "|Nicole|34.00|170000.00|      4.00|   34.0|           4.0|       4.0|\n",
            "| Ethan|22.00|140000.00|      1.00|   22.0|           1.0|       1.0|\n",
            "|Olivia|27.00|100000.00|      2.00|   27.0|           2.0|       2.0|\n",
            "| Lucas|27.00| 50000.00|      2.00|   27.0|           2.0|       2.0|\n",
            "|Sophia|29.00| 30000.00|      4.00|   29.0|           4.0|       4.0|\n",
            "+------+-----+---------+----------+-------+--------------+----------+\n",
            "\n"
          ]
        }
      ]
    },
    {
      "cell_type": "code",
      "source": [
        "data.filter(~(data['Age']>34)).show()"
      ],
      "metadata": {
        "colab": {
          "base_uri": "https://localhost:8080/"
        },
        "id": "BeL56zVAeDym",
        "outputId": "ae366217-579a-4e51-f5e1-496466a30a13"
      },
      "id": "BeL56zVAeDym",
      "execution_count": 221,
      "outputs": [
        {
          "output_type": "stream",
          "name": "stdout",
          "text": [
            "+------+-----+---------+----------+-------+--------------+----------+\n",
            "|  Name|  Age|   Income|Experience|New Age|New Experience|New Income|\n",
            "+------+-----+---------+----------+-------+--------------+----------+\n",
            "|  John|23.00| 50000.00|      3.00|   23.0|           3.0|       3.0|\n",
            "|   Eva|34.00| 90000.00|      6.00|   34.0|           6.0|       6.0|\n",
            "|Nicole|34.00|170000.00|      4.00|   34.0|           4.0|       4.0|\n",
            "| Ethan|22.00|140000.00|      1.00|   22.0|           1.0|       1.0|\n",
            "|Olivia|27.00|100000.00|      2.00|   27.0|           2.0|       2.0|\n",
            "| Lucas|27.00| 50000.00|      2.00|   27.0|           2.0|       2.0|\n",
            "|Sophia|29.00| 30000.00|      4.00|   29.0|           4.0|       4.0|\n",
            "+------+-----+---------+----------+-------+--------------+----------+\n",
            "\n"
          ]
        }
      ]
    },
    {
      "cell_type": "code",
      "source": [
        "data.groupBy('Age').max().show()"
      ],
      "metadata": {
        "colab": {
          "base_uri": "https://localhost:8080/"
        },
        "id": "VV2emccse_T8",
        "outputId": "aab36236-d2ac-42e9-a95d-8e5c945a87ec"
      },
      "id": "VV2emccse_T8",
      "execution_count": 222,
      "outputs": [
        {
          "output_type": "stream",
          "name": "stdout",
          "text": [
            "+-----+------------+-------------------+---------------+\n",
            "|  Age|max(New Age)|max(New Experience)|max(New Income)|\n",
            "+-----+------------+-------------------+---------------+\n",
            "|38.00|        38.0|                7.0|            7.0|\n",
            "|42.00|        42.0|                8.0|            8.0|\n",
            "|29.00|        29.0|                4.0|            4.0|\n",
            "|22.00|        22.0|                1.0|            1.0|\n",
            "|27.00|        27.0|                2.0|            2.0|\n",
            "|35.00|        35.0|                5.0|            5.0|\n",
            "|36.00|        36.0|                6.0|            6.0|\n",
            "|45.00|        45.0|                9.0|            9.0|\n",
            "|34.00|        34.0|                6.0|            6.0|\n",
            "|53.00|        53.0|               10.0|           10.0|\n",
            "|23.00|        23.0|                3.0|            3.0|\n",
            "+-----+------------+-------------------+---------------+\n",
            "\n"
          ]
        }
      ]
    },
    {
      "cell_type": "code",
      "source": [
        "data.groupBy(['Name', 'Age']).mean().show()"
      ],
      "metadata": {
        "colab": {
          "base_uri": "https://localhost:8080/"
        },
        "id": "s1zyjp1qhYA9",
        "outputId": "edac9ebc-bb36-4b76-abd0-1377c2f6a895"
      },
      "id": "s1zyjp1qhYA9",
      "execution_count": 223,
      "outputs": [
        {
          "output_type": "stream",
          "name": "stdout",
          "text": [
            "+-------+-----+------------+-------------------+---------------+\n",
            "|   Name|  Age|avg(New Age)|avg(New Experience)|avg(New Income)|\n",
            "+-------+-----+------------+-------------------+---------------+\n",
            "|    Ava|38.00|        38.0|                7.0|            7.0|\n",
            "|  Lucas|27.00|        27.0|                2.0|            2.0|\n",
            "|    Lee|35.00|        35.0|                5.0|            5.0|\n",
            "|   John|23.00|        23.0|                3.0|            3.0|\n",
            "| Olivia|27.00|        27.0|                2.0|            2.0|\n",
            "|    Eva|34.00|        34.0|                6.0|            6.0|\n",
            "|   Mary|42.00|        42.0|                8.0|            8.0|\n",
            "|Ishmael|53.00|        53.0|               10.0|           10.0|\n",
            "|  Ethan|22.00|        22.0|                1.0|            1.0|\n",
            "|Kenneth|36.00|        36.0|                6.0|            6.0|\n",
            "| Nicole|34.00|        34.0|                4.0|            4.0|\n",
            "| Sophia|29.00|        29.0|                4.0|            4.0|\n",
            "|  Locus|45.00|        45.0|                9.0|            9.0|\n",
            "+-------+-----+------------+-------------------+---------------+\n",
            "\n"
          ]
        }
      ]
    },
    {
      "cell_type": "code",
      "source": [
        "data.groupBy(['Name', 'Age']).count().show()"
      ],
      "metadata": {
        "colab": {
          "base_uri": "https://localhost:8080/"
        },
        "id": "PApzMiOvh7w0",
        "outputId": "f2002fad-e8b4-4ede-da61-d1e53c2a1104"
      },
      "id": "PApzMiOvh7w0",
      "execution_count": 224,
      "outputs": [
        {
          "output_type": "stream",
          "name": "stdout",
          "text": [
            "+-------+-----+-----+\n",
            "|   Name|  Age|count|\n",
            "+-------+-----+-----+\n",
            "|    Ava|38.00|    1|\n",
            "|  Lucas|27.00|    1|\n",
            "|    Lee|35.00|    1|\n",
            "|   John|23.00|    1|\n",
            "| Olivia|27.00|    1|\n",
            "|    Eva|34.00|    1|\n",
            "|   Mary|42.00|    1|\n",
            "|Ishmael|53.00|    1|\n",
            "|  Ethan|22.00|    1|\n",
            "|Kenneth|36.00|    1|\n",
            "| Nicole|34.00|    1|\n",
            "| Sophia|29.00|    1|\n",
            "|  Locus|45.00|    1|\n",
            "+-------+-----+-----+\n",
            "\n"
          ]
        }
      ]
    },
    {
      "cell_type": "code",
      "source": [
        "data.groupBy('Age').count().show()"
      ],
      "metadata": {
        "colab": {
          "base_uri": "https://localhost:8080/"
        },
        "id": "0hHi8u68jwqi",
        "outputId": "d2621d97-4826-444c-f243-f98e81b14fdb"
      },
      "id": "0hHi8u68jwqi",
      "execution_count": 225,
      "outputs": [
        {
          "output_type": "stream",
          "name": "stdout",
          "text": [
            "+-----+-----+\n",
            "|  Age|count|\n",
            "+-----+-----+\n",
            "|38.00|    1|\n",
            "|42.00|    1|\n",
            "|29.00|    1|\n",
            "|22.00|    1|\n",
            "|27.00|    2|\n",
            "|35.00|    1|\n",
            "|36.00|    1|\n",
            "|45.00|    1|\n",
            "|34.00|    2|\n",
            "|53.00|    1|\n",
            "|23.00|    1|\n",
            "+-----+-----+\n",
            "\n"
          ]
        }
      ]
    },
    {
      "cell_type": "code",
      "source": [
        "data.agg({\"Age\": \"max\"}).show()"
      ],
      "metadata": {
        "colab": {
          "base_uri": "https://localhost:8080/"
        },
        "id": "God-xi_nkP2E",
        "outputId": "9a4a9d8b-3bba-48b1-fa68-6f7aee6681ac"
      },
      "id": "God-xi_nkP2E",
      "execution_count": 226,
      "outputs": [
        {
          "output_type": "stream",
          "name": "stdout",
          "text": [
            "+--------+\n",
            "|max(Age)|\n",
            "+--------+\n",
            "|   53.00|\n",
            "+--------+\n",
            "\n"
          ]
        }
      ]
    },
    {
      "cell_type": "code",
      "source": [
        "data.sort('Age').show()"
      ],
      "metadata": {
        "colab": {
          "base_uri": "https://localhost:8080/"
        },
        "id": "wP0fQSTmk_rW",
        "outputId": "5f5ddc2e-d88b-4101-fe59-72187c2690c1"
      },
      "id": "wP0fQSTmk_rW",
      "execution_count": 227,
      "outputs": [
        {
          "output_type": "stream",
          "name": "stdout",
          "text": [
            "+-------+-----+---------+----------+-------+--------------+----------+\n",
            "|   Name|  Age|   Income|Experience|New Age|New Experience|New Income|\n",
            "+-------+-----+---------+----------+-------+--------------+----------+\n",
            "|  Ethan|22.00|140000.00|      1.00|   22.0|           1.0|       1.0|\n",
            "|   John|23.00| 50000.00|      3.00|   23.0|           3.0|       3.0|\n",
            "| Olivia|27.00|100000.00|      2.00|   27.0|           2.0|       2.0|\n",
            "|  Lucas|27.00| 50000.00|      2.00|   27.0|           2.0|       2.0|\n",
            "| Sophia|29.00| 30000.00|      4.00|   29.0|           4.0|       4.0|\n",
            "|    Eva|34.00| 90000.00|      6.00|   34.0|           6.0|       6.0|\n",
            "| Nicole|34.00|170000.00|      4.00|   34.0|           4.0|       4.0|\n",
            "|    Lee|35.00|200000.00|      5.00|   35.0|           5.0|       5.0|\n",
            "|Kenneth|36.00| 90000.00|      6.00|   36.0|           6.0|       6.0|\n",
            "|    Ava|38.00|110000.00|      7.00|   38.0|           7.0|       7.0|\n",
            "|   Mary|42.00| 67000.00|      8.00|   42.0|           8.0|       8.0|\n",
            "|  Locus|45.00| 80000.00|      9.00|   45.0|           9.0|       9.0|\n",
            "|Ishmael|53.00|100000.00|     10.00|   53.0|          10.0|      10.0|\n",
            "+-------+-----+---------+----------+-------+--------------+----------+\n",
            "\n"
          ]
        }
      ]
    },
    {
      "cell_type": "code",
      "source": [
        "data.sort(['Age', 'Name']).show()"
      ],
      "metadata": {
        "colab": {
          "base_uri": "https://localhost:8080/"
        },
        "id": "KT4G3w-ilT3z",
        "outputId": "de1f7b8c-c374-4d8a-bc6b-6552f4d771f5"
      },
      "id": "KT4G3w-ilT3z",
      "execution_count": 228,
      "outputs": [
        {
          "output_type": "stream",
          "name": "stdout",
          "text": [
            "+-------+-----+---------+----------+-------+--------------+----------+\n",
            "|   Name|  Age|   Income|Experience|New Age|New Experience|New Income|\n",
            "+-------+-----+---------+----------+-------+--------------+----------+\n",
            "|  Ethan|22.00|140000.00|      1.00|   22.0|           1.0|       1.0|\n",
            "|   John|23.00| 50000.00|      3.00|   23.0|           3.0|       3.0|\n",
            "|  Lucas|27.00| 50000.00|      2.00|   27.0|           2.0|       2.0|\n",
            "| Olivia|27.00|100000.00|      2.00|   27.0|           2.0|       2.0|\n",
            "| Sophia|29.00| 30000.00|      4.00|   29.0|           4.0|       4.0|\n",
            "|    Eva|34.00| 90000.00|      6.00|   34.0|           6.0|       6.0|\n",
            "| Nicole|34.00|170000.00|      4.00|   34.0|           4.0|       4.0|\n",
            "|    Lee|35.00|200000.00|      5.00|   35.0|           5.0|       5.0|\n",
            "|Kenneth|36.00| 90000.00|      6.00|   36.0|           6.0|       6.0|\n",
            "|    Ava|38.00|110000.00|      7.00|   38.0|           7.0|       7.0|\n",
            "|   Mary|42.00| 67000.00|      8.00|   42.0|           8.0|       8.0|\n",
            "|  Locus|45.00| 80000.00|      9.00|   45.0|           9.0|       9.0|\n",
            "|Ishmael|53.00|100000.00|     10.00|   53.0|          10.0|      10.0|\n",
            "+-------+-----+---------+----------+-------+--------------+----------+\n",
            "\n"
          ]
        }
      ]
    },
    {
      "cell_type": "markdown",
      "source": [
        "# Machine Learning"
      ],
      "metadata": {
        "id": "0esVQ4ELHwh-"
      },
      "id": "0esVQ4ELHwh-"
    },
    {
      "cell_type": "code",
      "source": [
        "from pyspark.ml.feature import VectorAssembler\n",
        "\n",
        "featureassembler=VectorAssembler(inputCols=[\"New Age\",\"New Experience\"],outputCol=\"Independent Features\")"
      ],
      "metadata": {
        "id": "GOGHhMeTlqtc"
      },
      "id": "GOGHhMeTlqtc",
      "execution_count": 229,
      "outputs": []
    },
    {
      "cell_type": "code",
      "source": [
        "data=featureassembler.transform(data)"
      ],
      "metadata": {
        "id": "_kXtKY9WsUBz"
      },
      "id": "_kXtKY9WsUBz",
      "execution_count": 230,
      "outputs": []
    },
    {
      "cell_type": "code",
      "source": [
        "data.show()"
      ],
      "metadata": {
        "colab": {
          "base_uri": "https://localhost:8080/"
        },
        "id": "pjifmds6skFx",
        "outputId": "a5ef46cc-887b-4e8c-9de2-75976fe122f8"
      },
      "id": "pjifmds6skFx",
      "execution_count": 231,
      "outputs": [
        {
          "output_type": "stream",
          "name": "stdout",
          "text": [
            "+-------+-----+---------+----------+-------+--------------+----------+--------------------+\n",
            "|   Name|  Age|   Income|Experience|New Age|New Experience|New Income|Independent Features|\n",
            "+-------+-----+---------+----------+-------+--------------+----------+--------------------+\n",
            "|   John|23.00| 50000.00|      3.00|   23.0|           3.0|       3.0|          [23.0,3.0]|\n",
            "|   Mary|42.00| 67000.00|      8.00|   42.0|           8.0|       8.0|          [42.0,8.0]|\n",
            "|    Eva|34.00| 90000.00|      6.00|   34.0|           6.0|       6.0|          [34.0,6.0]|\n",
            "|Ishmael|53.00|100000.00|     10.00|   53.0|          10.0|      10.0|         [53.0,10.0]|\n",
            "|  Locus|45.00| 80000.00|      9.00|   45.0|           9.0|       9.0|          [45.0,9.0]|\n",
            "|Kenneth|36.00| 90000.00|      6.00|   36.0|           6.0|       6.0|          [36.0,6.0]|\n",
            "|    Ava|38.00|110000.00|      7.00|   38.0|           7.0|       7.0|          [38.0,7.0]|\n",
            "| Nicole|34.00|170000.00|      4.00|   34.0|           4.0|       4.0|          [34.0,4.0]|\n",
            "|    Lee|35.00|200000.00|      5.00|   35.0|           5.0|       5.0|          [35.0,5.0]|\n",
            "|  Ethan|22.00|140000.00|      1.00|   22.0|           1.0|       1.0|          [22.0,1.0]|\n",
            "| Olivia|27.00|100000.00|      2.00|   27.0|           2.0|       2.0|          [27.0,2.0]|\n",
            "|  Lucas|27.00| 50000.00|      2.00|   27.0|           2.0|       2.0|          [27.0,2.0]|\n",
            "| Sophia|29.00| 30000.00|      4.00|   29.0|           4.0|       4.0|          [29.0,4.0]|\n",
            "+-------+-----+---------+----------+-------+--------------+----------+--------------------+\n",
            "\n"
          ]
        }
      ]
    },
    {
      "cell_type": "code",
      "source": [
        "from pyspark.ml.regression import LinearRegression"
      ],
      "metadata": {
        "id": "sc_pgTVi3UBJ"
      },
      "id": "sc_pgTVi3UBJ",
      "execution_count": 232,
      "outputs": []
    },
    {
      "cell_type": "code",
      "source": [
        "train_data,test_data=data.na.drop().randomSplit([0.75,0.25])"
      ],
      "metadata": {
        "id": "NPGS-v9F3aUi"
      },
      "id": "NPGS-v9F3aUi",
      "execution_count": 233,
      "outputs": []
    },
    {
      "cell_type": "code",
      "source": [
        "reg = LinearRegression(featuresCol = \"Independent Features\", labelCol='New Income')"
      ],
      "metadata": {
        "id": "QigEAKMc3hhS"
      },
      "id": "QigEAKMc3hhS",
      "execution_count": 234,
      "outputs": []
    },
    {
      "cell_type": "code",
      "source": [
        "reg = reg.fit(train_data)"
      ],
      "metadata": {
        "id": "651LXsni4bHt"
      },
      "id": "651LXsni4bHt",
      "execution_count": 235,
      "outputs": []
    },
    {
      "cell_type": "code",
      "source": [
        "reg.coefficients"
      ],
      "metadata": {
        "colab": {
          "base_uri": "https://localhost:8080/"
        },
        "id": "hInqVDWL4rVr",
        "outputId": "b54e083b-2483-47e5-d439-3f5fb2080f8c"
      },
      "id": "hInqVDWL4rVr",
      "execution_count": 236,
      "outputs": [
        {
          "output_type": "execute_result",
          "data": {
            "text/plain": [
              "DenseVector([-0.0, 1.0])"
            ]
          },
          "metadata": {},
          "execution_count": 236
        }
      ]
    },
    {
      "cell_type": "code",
      "source": [
        "reg.intercept"
      ],
      "metadata": {
        "colab": {
          "base_uri": "https://localhost:8080/"
        },
        "id": "NcOCjURA5YE1",
        "outputId": "ed741c9d-9097-43ce-c09a-5950344dcc0d"
      },
      "id": "NcOCjURA5YE1",
      "execution_count": 237,
      "outputs": [
        {
          "output_type": "execute_result",
          "data": {
            "text/plain": [
              "1.2465905049208366e-13"
            ]
          },
          "metadata": {},
          "execution_count": 237
        }
      ]
    },
    {
      "cell_type": "code",
      "source": [
        "### Prediction\n",
        "pred=reg.evaluate(test_data)"
      ],
      "metadata": {
        "id": "jTqypAY45cUu"
      },
      "id": "jTqypAY45cUu",
      "execution_count": 238,
      "outputs": []
    },
    {
      "cell_type": "code",
      "source": [
        "pred.predictions.show()"
      ],
      "metadata": {
        "colab": {
          "base_uri": "https://localhost:8080/"
        },
        "id": "O-MoQdKU5fef",
        "outputId": "e5661380-0f47-4bb0-8c87-ca9b588f245a"
      },
      "id": "O-MoQdKU5fef",
      "execution_count": 239,
      "outputs": [
        {
          "output_type": "stream",
          "name": "stdout",
          "text": [
            "+------+-----+---------+----------+-------+--------------+----------+--------------------+------------------+\n",
            "|  Name|  Age|   Income|Experience|New Age|New Experience|New Income|Independent Features|        prediction|\n",
            "+------+-----+---------+----------+-------+--------------+----------+--------------------+------------------+\n",
            "|  John|23.00| 50000.00|      3.00|   23.0|           3.0|       3.0|          [23.0,3.0]|3.0000000000000355|\n",
            "|   Lee|35.00|200000.00|      5.00|   35.0|           5.0|       5.0|          [35.0,5.0]| 4.999999999999996|\n",
            "|Nicole|34.00|170000.00|      4.00|   34.0|           4.0|       4.0|          [34.0,4.0]|3.9999999999999853|\n",
            "|Sophia|29.00| 30000.00|      4.00|   29.0|           4.0|       4.0|          [29.0,4.0]| 4.000000000000015|\n",
            "+------+-----+---------+----------+-------+--------------+----------+--------------------+------------------+\n",
            "\n"
          ]
        }
      ]
    },
    {
      "cell_type": "code",
      "source": [
        "pred.meanAbsoluteError,pred.meanSquaredError, pred.r2"
      ],
      "metadata": {
        "id": "j0CGGLeQ5lKV",
        "colab": {
          "base_uri": "https://localhost:8080/"
        },
        "outputId": "2bc6c2a2-eb9c-4620-d608-47ca5c2e2f77"
      },
      "id": "j0CGGLeQ5lKV",
      "execution_count": 240,
      "outputs": [
        {
          "output_type": "execute_result",
          "data": {
            "text/plain": [
              "(1.7430501486614958e-14, 4.311617885098592e-28, 1.0)"
            ]
          },
          "metadata": {},
          "execution_count": 240
        }
      ]
    },
    {
      "cell_type": "code",
      "source": [],
      "metadata": {
        "id": "KNKRF-OC69CI"
      },
      "id": "KNKRF-OC69CI",
      "execution_count": 240,
      "outputs": []
    }
  ],
  "metadata": {
    "kernelspec": {
      "display_name": "Python 3 (ipykernel)",
      "language": "python",
      "name": "python3"
    },
    "language_info": {
      "codemirror_mode": {
        "name": "ipython",
        "version": 3
      },
      "file_extension": ".py",
      "mimetype": "text/x-python",
      "name": "python",
      "nbconvert_exporter": "python",
      "pygments_lexer": "ipython3",
      "version": "3.11.5"
    },
    "colab": {
      "provenance": []
    }
  },
  "nbformat": 4,
  "nbformat_minor": 5
}
